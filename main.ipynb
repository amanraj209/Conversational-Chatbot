{
 "cells": [
  {
   "cell_type": "code",
   "execution_count": 1,
   "metadata": {},
   "outputs": [
    {
     "name": "stderr",
     "output_type": "stream",
     "text": [
      "Using TensorFlow backend.\n"
     ]
    }
   ],
   "source": [
    "import warnings\n",
    "warnings.filterwarnings('ignore')\n",
    "import numpy as np\n",
    "import pandas as pd\n",
    "from sklearn import preprocessing\n",
    "from sklearn.model_selection import KFold, cross_val_score, cross_val_predict, GridSearchCV\n",
    "from sklearn.tree import DecisionTreeClassifier\n",
    "from sklearn.linear_model import LogisticRegression, Perceptron, SGDClassifier\n",
    "from sklearn.neighbors import KNeighborsClassifier\n",
    "from sklearn.naive_bayes import GaussianNB\n",
    "from sklearn.svm import SVC, LinearSVC\n",
    "from sklearn.ensemble import RandomForestClassifier , GradientBoostingClassifier\n",
    "from sklearn.preprocessing import Imputer , Normalizer , scale, LabelEncoder, OneHotEncoder, MinMaxScaler\n",
    "from sklearn.model_selection import StratifiedKFold\n",
    "from sklearn.model_selection import train_test_split\n",
    "from sklearn.feature_selection import RFECV\n",
    "from sklearn.metrics import make_scorer, accuracy_score, classification_report, confusion_matrix, mean_squared_error\n",
    "import matplotlib as mpl\n",
    "import matplotlib.pyplot as plt\n",
    "import matplotlib.pylab as pylab\n",
    "import seaborn as sns\n",
    "from pandas import get_dummies\n",
    "import xgboost as xgb\n",
    "import scipy\n",
    "import math\n",
    "import json\n",
    "import sys\n",
    "import csv\n",
    "import os\n",
    "import tqdm\n",
    "import keras\n",
    "from keras.models import Sequential, Model\n",
    "from keras.layers import Input, Dense, LSTM, Dropout, GRU, Bidirectional, Flatten, Embedding\n",
    "from keras.optimizers import SGD\n",
    "from tqdm import tqdm_notebook\n",
    "from nltk.corpus import stopwords\n",
    "import string\n",
    "from collections import Counter\n",
    "from string import punctuation\n",
    "from numpy import array\n",
    "from keras.preprocessing.text import Tokenizer\n",
    "from keras.preprocessing.sequence import pad_sequences\n",
    "from keras.layers.convolutional import Conv1D\n",
    "from keras.layers.convolutional import MaxPooling1D\n",
    "from gensim.models import Word2Vec\n",
    "import re\n",
    "from string import digits\n",
    "import operator\n",
    "import gc"
   ]
  },
  {
   "cell_type": "code",
   "execution_count": 2,
   "metadata": {},
   "outputs": [],
   "source": [
    "def build_vocab(texts, vocab):\n",
    "    #sentences = texts.apply(lambda x: x.split()).values\n",
    "    for sentence in texts:\n",
    "        for word in sentence.split(' '):\n",
    "            if word == '' or word == ' ':\n",
    "                continue\n",
    "            try:\n",
    "                vocab[word] += 1\n",
    "            except KeyError:\n",
    "                vocab[word] = 1\n",
    "    return vocab\n",
    "\n",
    "def load_embed(file):\n",
    "    def get_coefs(word, *arr):\n",
    "        return word, np.asarray(arr, dtype='float32')\n",
    "    if file == 'wiki-news-300d-1M.vec':\n",
    "        embeddings_index = dict(get_coefs(*o.split(\" \")) for o in open(file) if len(o) > 100)\n",
    "    else:\n",
    "        embeddings_index = dict(get_coefs(*o.split(\" \")) for o in open(file, encoding='latin'))\n",
    "    return embeddings_index\n",
    "\n",
    "def load_doc(filename):\n",
    "    lines = [line.rstrip('\\n') for line in open(filename)]\n",
    "    result = []\n",
    "    for line in lines:\n",
    "        result.append(line)\n",
    "    return result\n",
    "\n",
    "def check_coverage(vocab, embeddings_index):\n",
    "    known_words = {}\n",
    "    unknown_words = {}\n",
    "    nb_known_words = 0\n",
    "    nb_unknown_words = 0\n",
    "    for word in vocab.keys():\n",
    "        try:\n",
    "            known_words[word] = embeddings_index[word]\n",
    "            nb_known_words += vocab[word]\n",
    "        except:\n",
    "            unknown_words[word] = vocab[word]\n",
    "            nb_unknown_words += vocab[word]\n",
    "            pass\n",
    "\n",
    "    print('Found embeddings for {:.2%} of vocab'.format(len(known_words) / len(vocab)))\n",
    "    print('Found embeddings for  {:.2%} of all text'.format(nb_known_words / (nb_known_words + nb_unknown_words)))\n",
    "    unknown_words = sorted(unknown_words.items(), key=operator.itemgetter(1))[::-1]\n",
    "    return unknown_words\n",
    "\n",
    "def add_lower(embedding, vocab):\n",
    "    count = 0\n",
    "    for word in vocab:\n",
    "        if word in embedding and word.lower() not in embedding:  \n",
    "            embedding[word.lower()] = embedding[word]\n",
    "            count += 1\n",
    "    print(f\"Added {count} words to embedding\")\n",
    "    \n",
    "def known_contractions(embed):\n",
    "    known = []\n",
    "    for contract in contraction_mapping:\n",
    "        if contract in embed:\n",
    "            known.append(contract)\n",
    "    return known\n",
    "\n",
    "def clean_contractions(text, mapping):\n",
    "    specials = [\"’\", \"‘\", \"´\", \"`\"]\n",
    "    for s in specials:\n",
    "        text = text.replace(s, \"'\")\n",
    "    text = ' '.join([mapping[t] if t in mapping else t for t in text.split(\" \")])\n",
    "    return text\n",
    "\n",
    "def unknown_punct(embed, punct):\n",
    "    unknown = ''\n",
    "    for p in punct:\n",
    "        if p not in embed:\n",
    "            unknown += p\n",
    "            unknown += ' '\n",
    "    return unknown\n",
    "\n",
    "def clean_special_chars(text, punct, mapping):\n",
    "    for p in mapping:\n",
    "        text = text.replace(p, mapping[p])\n",
    "    \n",
    "    for p in punct:\n",
    "        text = text.replace(p, f' {p} ')\n",
    "    \n",
    "    specials = {'\\u200b': ' ', '…': ' ... ', '\\ufeff': '', 'करना': '', 'है': ''}  # Other special characters that I have to deal with in last\n",
    "    for s in specials:\n",
    "        text = text.replace(s, specials[s])\n",
    "    \n",
    "    return text\n",
    "\n",
    "def correct_spelling(x, dic):\n",
    "    for word in dic.keys():\n",
    "        x = x.replace(word, dic[word])\n",
    "    return x"
   ]
  },
  {
   "cell_type": "code",
   "execution_count": 3,
   "metadata": {},
   "outputs": [],
   "source": [
    "questions = load_doc(\"questions.txt\")\n",
    "answers = load_doc(\"answers.txt\")\n",
    "list_of_tuples = list(zip(questions, answers))\n",
    "dataset = pd.DataFrame(list_of_tuples, columns = ['Questions', 'Answers'])"
   ]
  },
  {
   "cell_type": "code",
   "execution_count": 4,
   "metadata": {},
   "outputs": [
    {
     "data": {
      "text/html": [
       "<div>\n",
       "<style scoped>\n",
       "    .dataframe tbody tr th:only-of-type {\n",
       "        vertical-align: middle;\n",
       "    }\n",
       "\n",
       "    .dataframe tbody tr th {\n",
       "        vertical-align: top;\n",
       "    }\n",
       "\n",
       "    .dataframe thead th {\n",
       "        text-align: right;\n",
       "    }\n",
       "</style>\n",
       "<table border=\"1\" class=\"dataframe\">\n",
       "  <thead>\n",
       "    <tr style=\"text-align: right;\">\n",
       "      <th></th>\n",
       "      <th>Questions</th>\n",
       "      <th>Answers</th>\n",
       "    </tr>\n",
       "  </thead>\n",
       "  <tbody>\n",
       "    <tr>\n",
       "      <th>0</th>\n",
       "      <td>What is ICTS learning analytics ?</td>\n",
       "      <td>It is a modern, smart and focussed virtual env...</td>\n",
       "    </tr>\n",
       "    <tr>\n",
       "      <th>1</th>\n",
       "      <td>Is this a degree program ?</td>\n",
       "      <td>No, this is a short term training programme. I...</td>\n",
       "    </tr>\n",
       "    <tr>\n",
       "      <th>2</th>\n",
       "      <td>Is the certification given by any industry or ...</td>\n",
       "      <td>Yes, certification is given by ICTS Pvt. Ltd. ...</td>\n",
       "    </tr>\n",
       "    <tr>\n",
       "      <th>3</th>\n",
       "      <td>Is this completely theoretical or some hands o...</td>\n",
       "      <td>Some hands on training will be available. Howe...</td>\n",
       "    </tr>\n",
       "    <tr>\n",
       "      <th>4</th>\n",
       "      <td>Is this an online programme or classroom conta...</td>\n",
       "      <td>It is an online program that mimics classroom ...</td>\n",
       "    </tr>\n",
       "  </tbody>\n",
       "</table>\n",
       "</div>"
      ],
      "text/plain": [
       "                                           Questions  \\\n",
       "0                  What is ICTS learning analytics ?   \n",
       "1                         Is this a degree program ?   \n",
       "2  Is the certification given by any industry or ...   \n",
       "3  Is this completely theoretical or some hands o...   \n",
       "4  Is this an online programme or classroom conta...   \n",
       "\n",
       "                                             Answers  \n",
       "0  It is a modern, smart and focussed virtual env...  \n",
       "1  No, this is a short term training programme. I...  \n",
       "2  Yes, certification is given by ICTS Pvt. Ltd. ...  \n",
       "3  Some hands on training will be available. Howe...  \n",
       "4  It is an online program that mimics classroom ...  "
      ]
     },
     "execution_count": 4,
     "metadata": {},
     "output_type": "execute_result"
    }
   ],
   "source": [
    "dataset.head()"
   ]
  },
  {
   "cell_type": "code",
   "execution_count": 5,
   "metadata": {},
   "outputs": [
    {
     "name": "stdout",
     "output_type": "stream",
     "text": [
      "Extracting GloVe embedding\n",
      "Extracting FastText embedding\n"
     ]
    }
   ],
   "source": [
    "glove = 'glove.6B.300d.txt'\n",
    "wiki_news = 'wiki-news-300d-1M.vec'\n",
    "\n",
    "print(\"Extracting GloVe embedding\")\n",
    "embed_glove = load_embed(glove)\n",
    "print(\"Extracting FastText embedding\")\n",
    "embed_fasttext = load_embed(wiki_news)"
   ]
  },
  {
   "cell_type": "code",
   "execution_count": 6,
   "metadata": {},
   "outputs": [],
   "source": [
    "vocab = {}\n",
    "vocab = build_vocab(dataset['Questions'], vocab)\n",
    "vocab = build_vocab(dataset['Answers'], vocab)"
   ]
  },
  {
   "cell_type": "code",
   "execution_count": 7,
   "metadata": {},
   "outputs": [
    {
     "name": "stdout",
     "output_type": "stream",
     "text": [
      "Glove : \n",
      "Found embeddings for 74.19% of vocab\n",
      "Found embeddings for  81.10% of all text\n",
      "FastText : \n",
      "Found embeddings for 91.40% of vocab\n",
      "Found embeddings for  95.05% of all text\n"
     ]
    }
   ],
   "source": [
    "print(\"Glove : \")\n",
    "oov_glove = check_coverage(vocab, embed_glove)\n",
    "print(\"FastText : \")\n",
    "oov_fasttext = check_coverage(vocab, embed_fasttext)"
   ]
  },
  {
   "cell_type": "code",
   "execution_count": 8,
   "metadata": {},
   "outputs": [],
   "source": [
    "dataset['lowered_question'] = dataset['Questions'].apply(lambda x: x.lower())\n",
    "dataset['lowered_answer'] = dataset['Answers'].apply(lambda x: x.lower())"
   ]
  },
  {
   "cell_type": "code",
   "execution_count": 9,
   "metadata": {},
   "outputs": [
    {
     "data": {
      "text/html": [
       "<div>\n",
       "<style scoped>\n",
       "    .dataframe tbody tr th:only-of-type {\n",
       "        vertical-align: middle;\n",
       "    }\n",
       "\n",
       "    .dataframe tbody tr th {\n",
       "        vertical-align: top;\n",
       "    }\n",
       "\n",
       "    .dataframe thead th {\n",
       "        text-align: right;\n",
       "    }\n",
       "</style>\n",
       "<table border=\"1\" class=\"dataframe\">\n",
       "  <thead>\n",
       "    <tr style=\"text-align: right;\">\n",
       "      <th></th>\n",
       "      <th>Questions</th>\n",
       "      <th>Answers</th>\n",
       "      <th>lowered_question</th>\n",
       "      <th>lowered_answer</th>\n",
       "    </tr>\n",
       "  </thead>\n",
       "  <tbody>\n",
       "    <tr>\n",
       "      <th>0</th>\n",
       "      <td>What is ICTS learning analytics ?</td>\n",
       "      <td>It is a modern, smart and focussed virtual env...</td>\n",
       "      <td>what is icts learning analytics ?</td>\n",
       "      <td>it is a modern, smart and focussed virtual env...</td>\n",
       "    </tr>\n",
       "    <tr>\n",
       "      <th>1</th>\n",
       "      <td>Is this a degree program ?</td>\n",
       "      <td>No, this is a short term training programme. I...</td>\n",
       "      <td>is this a degree program ?</td>\n",
       "      <td>no, this is a short term training programme. i...</td>\n",
       "    </tr>\n",
       "    <tr>\n",
       "      <th>2</th>\n",
       "      <td>Is the certification given by any industry or ...</td>\n",
       "      <td>Yes, certification is given by ICTS Pvt. Ltd. ...</td>\n",
       "      <td>is the certification given by any industry or ...</td>\n",
       "      <td>yes, certification is given by icts pvt. ltd. ...</td>\n",
       "    </tr>\n",
       "    <tr>\n",
       "      <th>3</th>\n",
       "      <td>Is this completely theoretical or some hands o...</td>\n",
       "      <td>Some hands on training will be available. Howe...</td>\n",
       "      <td>is this completely theoretical or some hands o...</td>\n",
       "      <td>some hands on training will be available. howe...</td>\n",
       "    </tr>\n",
       "    <tr>\n",
       "      <th>4</th>\n",
       "      <td>Is this an online programme or classroom conta...</td>\n",
       "      <td>It is an online program that mimics classroom ...</td>\n",
       "      <td>is this an online programme or classroom conta...</td>\n",
       "      <td>it is an online program that mimics classroom ...</td>\n",
       "    </tr>\n",
       "  </tbody>\n",
       "</table>\n",
       "</div>"
      ],
      "text/plain": [
       "                                           Questions  \\\n",
       "0                  What is ICTS learning analytics ?   \n",
       "1                         Is this a degree program ?   \n",
       "2  Is the certification given by any industry or ...   \n",
       "3  Is this completely theoretical or some hands o...   \n",
       "4  Is this an online programme or classroom conta...   \n",
       "\n",
       "                                             Answers  \\\n",
       "0  It is a modern, smart and focussed virtual env...   \n",
       "1  No, this is a short term training programme. I...   \n",
       "2  Yes, certification is given by ICTS Pvt. Ltd. ...   \n",
       "3  Some hands on training will be available. Howe...   \n",
       "4  It is an online program that mimics classroom ...   \n",
       "\n",
       "                                    lowered_question  \\\n",
       "0                  what is icts learning analytics ?   \n",
       "1                         is this a degree program ?   \n",
       "2  is the certification given by any industry or ...   \n",
       "3  is this completely theoretical or some hands o...   \n",
       "4  is this an online programme or classroom conta...   \n",
       "\n",
       "                                      lowered_answer  \n",
       "0  it is a modern, smart and focussed virtual env...  \n",
       "1  no, this is a short term training programme. i...  \n",
       "2  yes, certification is given by icts pvt. ltd. ...  \n",
       "3  some hands on training will be available. howe...  \n",
       "4  it is an online program that mimics classroom ...  "
      ]
     },
     "execution_count": 9,
     "metadata": {},
     "output_type": "execute_result"
    }
   ],
   "source": [
    "dataset.head()"
   ]
  },
  {
   "cell_type": "code",
   "execution_count": 10,
   "metadata": {},
   "outputs": [],
   "source": [
    "vocab_low = {}\n",
    "vocab_low = build_vocab(dataset['lowered_question'], vocab_low)\n",
    "vocab_low = build_vocab(dataset['lowered_answer'], vocab_low)"
   ]
  },
  {
   "cell_type": "code",
   "execution_count": 11,
   "metadata": {},
   "outputs": [
    {
     "name": "stdout",
     "output_type": "stream",
     "text": [
      "Glove : \n",
      "Found embeddings for 85.02% of vocab\n",
      "Found embeddings for  90.99% of all text\n",
      "FastText : \n",
      "Found embeddings for 91.01% of vocab\n",
      "Found embeddings for  94.88% of all text\n"
     ]
    }
   ],
   "source": [
    "print(\"Glove : \")\n",
    "oov_glove = check_coverage(vocab_low, embed_glove)\n",
    "print(\"FastText : \")\n",
    "oov_fasttext = check_coverage(vocab_low, embed_fasttext)"
   ]
  },
  {
   "cell_type": "code",
   "execution_count": 12,
   "metadata": {},
   "outputs": [
    {
     "name": "stdout",
     "output_type": "stream",
     "text": [
      "Glove : \n",
      "Added 0 words to embedding\n",
      "FastText : \n",
      "Added 1 words to embedding\n"
     ]
    }
   ],
   "source": [
    "print(\"Glove : \")\n",
    "add_lower(embed_glove, vocab)\n",
    "print(\"FastText : \")\n",
    "add_lower(embed_fasttext, vocab)"
   ]
  },
  {
   "cell_type": "code",
   "execution_count": 13,
   "metadata": {},
   "outputs": [
    {
     "name": "stdout",
     "output_type": "stream",
     "text": [
      "Glove : \n",
      "Found embeddings for 85.02% of vocab\n",
      "Found embeddings for  90.99% of all text\n",
      "FastText : \n",
      "Found embeddings for 91.39% of vocab\n",
      "Found embeddings for  95.23% of all text\n"
     ]
    }
   ],
   "source": [
    "print(\"Glove : \")\n",
    "oov_glove = check_coverage(vocab_low, embed_glove)\n",
    "print(\"FastText : \")\n",
    "oov_fasttext = check_coverage(vocab_low, embed_fasttext)"
   ]
  },
  {
   "cell_type": "code",
   "execution_count": 14,
   "metadata": {},
   "outputs": [
    {
     "data": {
      "text/plain": [
       "[('support.', 3),\n",
       " ('programme.', 3),\n",
       " ('students.', 3),\n",
       " ('programme?', 3),\n",
       " ('candidate.', 2),\n",
       " ('yes,', 2),\n",
       " ('there?', 2),\n",
       " ('platform.', 1),\n",
       " ('laptop.', 1),\n",
       " ('journals.', 1),\n",
       " ('participants.', 1),\n",
       " ('limited,', 1),\n",
       " ('program.', 1),\n",
       " ('possible.', 1),\n",
       " ('experts.', 1),\n",
       " ('lectures.', 1),\n",
       " ('90%', 1),\n",
       " ('domains.', 1),\n",
       " ('participation.', 1),\n",
       " ('organisations.', 1),\n",
       " ('placements.', 1),\n",
       " ('therefore,', 1),\n",
       " ('disciplines.', 1),\n",
       " ('engineering,', 1),\n",
       " ('weekend.', 1),\n",
       " ('tutorials.', 1),\n",
       " ('driven.', 1),\n",
       " ('available.', 1),\n",
       " ('leads.', 1),\n",
       " ('analytics.', 1),\n",
       " ('hours/credits', 1),\n",
       " ('no,', 1),\n",
       " ('information.', 1),\n",
       " ('http://www.icts-learninganalytics.com', 1),\n",
       " ('modern,', 1),\n",
       " ('others?', 1),\n",
       " ('process?', 1),\n",
       " ('criteria?', 1),\n",
       " ('provided?', 1),\n",
       " ('available?', 1)]"
      ]
     },
     "execution_count": 14,
     "metadata": {},
     "output_type": "execute_result"
    }
   ],
   "source": [
    "oov_glove"
   ]
  },
  {
   "cell_type": "code",
   "execution_count": 15,
   "metadata": {},
   "outputs": [],
   "source": [
    "contraction_mapping = {\"ain't\": \"is not\", \"aren't\": \"are not\", \"http://www.icts-learninganalytics.com\": \"the official site\", \"can't\": \"cannot\", \"'cause\": \"because\", \"could've\": \"could have\", \"couldn't\": \"could not\", \"didn't\": \"did not\",  \"doesn't\": \"does not\", \"don't\": \"do not\", \"hadn't\": \"had not\", \"hasn't\": \"has not\", \"haven't\": \"have not\", \"he'd\": \"he would\",\"he'll\": \"he will\", \"he's\": \"he is\", \"how'd\": \"how did\", \"how'd'y\": \"how do you\", \"how'll\": \"how will\", \"how's\": \"how is\",  \"I'd\": \"I would\", \"I'd've\": \"I would have\", \"I'll\": \"I will\", \"I'll've\": \"I will have\",\"I'm\": \"I am\", \"I've\": \"I have\", \"i'd\": \"i would\", \"i'd've\": \"i would have\", \"i'll\": \"i will\",  \"i'll've\": \"i will have\",\"i'm\": \"i am\", \"i've\": \"i have\", \"isn't\": \"is not\", \"it'd\": \"it would\", \"it'd've\": \"it would have\", \"it'll\": \"it will\", \"it'll've\": \"it will have\",\"it's\": \"it is\", \"let's\": \"let us\", \"ma'am\": \"madam\", \"mayn't\": \"may not\", \"might've\": \"might have\",\"mightn't\": \"might not\",\"mightn't've\": \"might not have\", \"must've\": \"must have\", \"mustn't\": \"must not\", \"mustn't've\": \"must not have\", \"needn't\": \"need not\", \"needn't've\": \"need not have\",\"o'clock\": \"of the clock\", \"oughtn't\": \"ought not\", \"oughtn't've\": \"ought not have\", \"shan't\": \"shall not\", \"sha'n't\": \"shall not\", \"shan't've\": \"shall not have\", \"she'd\": \"she would\", \"she'd've\": \"she would have\", \"she'll\": \"she will\", \"she'll've\": \"she will have\", \"she's\": \"she is\", \"should've\": \"should have\", \"shouldn't\": \"should not\", \"shouldn't've\": \"should not have\", \"so've\": \"so have\",\"so's\": \"so as\", \"this's\": \"this is\",\"that'd\": \"that would\", \"that'd've\": \"that would have\", \"that's\": \"that is\", \"there'd\": \"there would\", \"there'd've\": \"there would have\", \"there's\": \"there is\", \"here's\": \"here is\",\"they'd\": \"they would\", \"they'd've\": \"they would have\", \"they'll\": \"they will\", \"they'll've\": \"they will have\", \"they're\": \"they are\", \"they've\": \"they have\", \"to've\": \"to have\", \"wasn't\": \"was not\", \"we'd\": \"we would\", \"we'd've\": \"we would have\", \"we'll\": \"we will\", \"we'll've\": \"we will have\", \"we're\": \"we are\", \"we've\": \"we have\", \"weren't\": \"were not\", \"what'll\": \"what will\", \"what'll've\": \"what will have\", \"what're\": \"what are\",  \"what's\": \"what is\", \"what've\": \"what have\", \"when's\": \"when is\", \"when've\": \"when have\", \"where'd\": \"where did\", \"where's\": \"where is\", \"where've\": \"where have\", \"who'll\": \"who will\", \"who'll've\": \"who will have\", \"who's\": \"who is\", \"who've\": \"who have\", \"why's\": \"why is\", \"why've\": \"why have\", \"will've\": \"will have\", \"won't\": \"will not\", \"won't've\": \"will not have\", \"would've\": \"would have\", \"wouldn't\": \"would not\", \"wouldn't've\": \"would not have\", \"y'all\": \"you all\", \"y'all'd\": \"you all would\",\"y'all'd've\": \"you all would have\",\"y'all're\": \"you all are\",\"y'all've\": \"you all have\",\"you'd\": \"you would\", \"you'd've\": \"you would have\", \"you'll\": \"you will\", \"you'll've\": \"you will have\", \"you're\": \"you are\", \"you've\": \"you have\"}"
   ]
  },
  {
   "cell_type": "code",
   "execution_count": 16,
   "metadata": {},
   "outputs": [
    {
     "name": "stdout",
     "output_type": "stream",
     "text": [
      "- Known Contractions -\n",
      "   Glove :\n",
      "[\"'cause\", \"ma'am\", \"o'clock\"]\n",
      "   FastText :\n",
      "[]\n"
     ]
    }
   ],
   "source": [
    "print(\"- Known Contractions -\")\n",
    "print(\"   Glove :\")\n",
    "print(known_contractions(embed_glove))\n",
    "print(\"   FastText :\")\n",
    "print(known_contractions(embed_fasttext))"
   ]
  },
  {
   "cell_type": "code",
   "execution_count": 17,
   "metadata": {},
   "outputs": [],
   "source": [
    "dataset['treated_question'] = dataset['lowered_question'].apply(lambda x: clean_contractions(x, contraction_mapping))\n",
    "dataset['treated_answer'] = dataset['lowered_answer'].apply(lambda x: clean_contractions(x, contraction_mapping))"
   ]
  },
  {
   "cell_type": "code",
   "execution_count": 18,
   "metadata": {},
   "outputs": [
    {
     "name": "stdout",
     "output_type": "stream",
     "text": [
      "Glove : \n",
      "Found embeddings for 85.45% of vocab\n",
      "Found embeddings for  91.20% of all text\n",
      "FastText : \n",
      "Found embeddings for 91.79% of vocab\n",
      "Found embeddings for  95.42% of all text\n"
     ]
    }
   ],
   "source": [
    "vocab = {}\n",
    "vocab = build_vocab(dataset['treated_question'], vocab)\n",
    "vocab = build_vocab(dataset['treated_answer'], vocab)\n",
    "print(\"Glove : \")\n",
    "oov_glove = check_coverage(vocab, embed_glove)\n",
    "print(\"FastText : \")\n",
    "oov_fasttext = check_coverage(vocab, embed_fasttext)"
   ]
  },
  {
   "cell_type": "code",
   "execution_count": 19,
   "metadata": {},
   "outputs": [],
   "source": [
    "punct = \"/-'?!.,#$%\\'()*+-/:;<=>@[\\\\]^_`{|}~\" + '\"\"“”’' + '∞θ÷α•à−β∅³π‘₹´°£€\\×™√²—–&'"
   ]
  },
  {
   "cell_type": "code",
   "execution_count": 20,
   "metadata": {},
   "outputs": [
    {
     "name": "stdout",
     "output_type": "stream",
     "text": [
      "Glove :\n",
      "“ ” ’ ∞ θ ÷ α • à − β ∅ ³ π ‘ ₹ ´ ° £ € × ™ √ ² — – \n",
      "FastText :\n",
      "_ ` \n"
     ]
    }
   ],
   "source": [
    "print(\"Glove :\")\n",
    "print(unknown_punct(embed_glove, punct))\n",
    "print(\"FastText :\")\n",
    "print(unknown_punct(embed_fasttext, punct))"
   ]
  },
  {
   "cell_type": "code",
   "execution_count": 21,
   "metadata": {},
   "outputs": [],
   "source": [
    "punct_mapping = {\"‘\": \"'\", \"₹\": \"e\", \"´\": \"'\", \"°\": \"\", \"€\": \"e\", \"™\": \"tm\", \"√\": \" sqrt \", \"×\": \"x\", \"²\": \"2\", \"—\": \"-\", \"–\": \"-\", \"’\": \"'\", \"_\": \"-\", \"`\": \"'\", '“': '\"', '”': '\"', '“': '\"', \"£\": \"e\", '∞': 'infinity', 'θ': 'theta', '÷': '/', 'α': 'alpha', '•': '.', 'à': 'a', '−': '-', 'β': 'beta', '∅': '', '³': '3', 'π': 'pi', }"
   ]
  },
  {
   "cell_type": "code",
   "execution_count": 22,
   "metadata": {},
   "outputs": [],
   "source": [
    "dataset['treated_question'] = dataset['treated_question'].apply(lambda x: clean_special_chars(x, punct, punct_mapping))\n",
    "dataset['treated_answer'] = dataset['treated_answer'].apply(lambda x: clean_special_chars(x, punct, punct_mapping))"
   ]
  },
  {
   "cell_type": "code",
   "execution_count": 23,
   "metadata": {},
   "outputs": [
    {
     "name": "stdout",
     "output_type": "stream",
     "text": [
      "Glove : \n",
      "Found embeddings for 100.00% of vocab\n",
      "Found embeddings for  100.00% of all text\n",
      "FastText : \n",
      "Found embeddings for 100.00% of vocab\n",
      "Found embeddings for  100.00% of all text\n"
     ]
    }
   ],
   "source": [
    "vocab = {}\n",
    "vocab = build_vocab(dataset['treated_question'], vocab)\n",
    "vocab = build_vocab(dataset['treated_answer'], vocab)\n",
    "print(\"Glove : \")\n",
    "oov_glove = check_coverage(vocab, embed_glove)\n",
    "print(\"FastText : \")\n",
    "oov_fasttext = check_coverage(vocab, embed_fasttext)"
   ]
  },
  {
   "cell_type": "code",
   "execution_count": 24,
   "metadata": {},
   "outputs": [
    {
     "data": {
      "text/plain": [
       "[]"
      ]
     },
     "execution_count": 24,
     "metadata": {},
     "output_type": "execute_result"
    }
   ],
   "source": [
    "oov_fasttext"
   ]
  },
  {
   "cell_type": "code",
   "execution_count": 25,
   "metadata": {},
   "outputs": [],
   "source": [
    "mispell_dict = {'colour': 'color', 'centre': 'center', 'favourite': 'favorite', 'travelling': 'traveling', 'counselling': 'counseling', 'theatre': 'theater', 'cancelled': 'canceled', 'labour': 'labor', 'organisation': 'organization', 'wwii': 'world war 2', 'citicise': 'criticize', 'youtu ': 'youtube ', 'Qoura': 'Quora', 'sallary': 'salary', 'Whta': 'What', 'narcisist': 'narcissist', 'howdo': 'how do', 'whatare': 'what are', 'howcan': 'how can', 'howmuch': 'how much', 'howmany': 'how many', 'whydo': 'why do', 'doI': 'do I', 'theBest': 'the best', 'howdoes': 'how does', 'mastrubation': 'masturbation', 'mastrubate': 'masturbate', \"mastrubating\": 'masturbating', 'pennis': 'penis', 'Etherium': 'Ethereum', 'narcissit': 'narcissist', 'bigdata': 'big data', '2k17': '2017', '2k18': '2018', 'qouta': 'quota', 'exboyfriend': 'ex boyfriend', 'airhostess': 'air hostess', \"whst\": 'what', 'watsapp': 'whatsapp', 'demonitisation': 'demonetization', 'demonitization': 'demonetization', 'demonetisation': 'demonetization'}"
   ]
  },
  {
   "cell_type": "code",
   "execution_count": 26,
   "metadata": {},
   "outputs": [],
   "source": [
    "dataset['treated_question'] = dataset['treated_question'].apply(lambda x: correct_spelling(x, mispell_dict))\n",
    "dataset['treated_answer'] = dataset['treated_answer'].apply(lambda x: correct_spelling(x, mispell_dict))"
   ]
  },
  {
   "cell_type": "code",
   "execution_count": 27,
   "metadata": {},
   "outputs": [
    {
     "name": "stdout",
     "output_type": "stream",
     "text": [
      "Glove : \n",
      "Found embeddings for 100.00% of vocab\n",
      "Found embeddings for  100.00% of all text\n",
      "FastText : \n",
      "Found embeddings for 100.00% of vocab\n",
      "Found embeddings for  100.00% of all text\n"
     ]
    }
   ],
   "source": [
    "vocab = {}\n",
    "vocab = build_vocab(dataset['treated_question'], vocab)\n",
    "vocab = build_vocab(dataset['treated_answer'], vocab)\n",
    "print(\"Glove : \")\n",
    "oov_glove = check_coverage(vocab, embed_glove)\n",
    "print(\"FastText : \")\n",
    "oov_fasttext = check_coverage(vocab, embed_fasttext)"
   ]
  },
  {
   "cell_type": "code",
   "execution_count": 28,
   "metadata": {},
   "outputs": [
    {
     "data": {
      "text/html": [
       "<div>\n",
       "<style scoped>\n",
       "    .dataframe tbody tr th:only-of-type {\n",
       "        vertical-align: middle;\n",
       "    }\n",
       "\n",
       "    .dataframe tbody tr th {\n",
       "        vertical-align: top;\n",
       "    }\n",
       "\n",
       "    .dataframe thead th {\n",
       "        text-align: right;\n",
       "    }\n",
       "</style>\n",
       "<table border=\"1\" class=\"dataframe\">\n",
       "  <thead>\n",
       "    <tr style=\"text-align: right;\">\n",
       "      <th></th>\n",
       "      <th>Questions</th>\n",
       "      <th>Answers</th>\n",
       "      <th>lowered_question</th>\n",
       "      <th>lowered_answer</th>\n",
       "      <th>treated_question</th>\n",
       "      <th>treated_answer</th>\n",
       "    </tr>\n",
       "  </thead>\n",
       "  <tbody>\n",
       "    <tr>\n",
       "      <th>0</th>\n",
       "      <td>What is ICTS learning analytics ?</td>\n",
       "      <td>It is a modern, smart and focussed virtual env...</td>\n",
       "      <td>what is icts learning analytics ?</td>\n",
       "      <td>it is a modern, smart and focussed virtual env...</td>\n",
       "      <td>what is icts learning analytics  ?</td>\n",
       "      <td>it is a modern ,  smart and focussed virtual e...</td>\n",
       "    </tr>\n",
       "    <tr>\n",
       "      <th>1</th>\n",
       "      <td>Is this a degree program ?</td>\n",
       "      <td>No, this is a short term training programme. I...</td>\n",
       "      <td>is this a degree program ?</td>\n",
       "      <td>no, this is a short term training programme. i...</td>\n",
       "      <td>is this a degree program  ?</td>\n",
       "      <td>no ,  this is a short term training programme ...</td>\n",
       "    </tr>\n",
       "    <tr>\n",
       "      <th>2</th>\n",
       "      <td>Is the certification given by any industry or ...</td>\n",
       "      <td>Yes, certification is given by ICTS Pvt. Ltd. ...</td>\n",
       "      <td>is the certification given by any industry or ...</td>\n",
       "      <td>yes, certification is given by icts pvt. ltd. ...</td>\n",
       "      <td>is the certification given by any industry or ...</td>\n",
       "      <td>yes ,  certification is given by icts pvt .  l...</td>\n",
       "    </tr>\n",
       "    <tr>\n",
       "      <th>3</th>\n",
       "      <td>Is this completely theoretical or some hands o...</td>\n",
       "      <td>Some hands on training will be available. Howe...</td>\n",
       "      <td>is this completely theoretical or some hands o...</td>\n",
       "      <td>some hands on training will be available. howe...</td>\n",
       "      <td>is this completely theoretical or some hands o...</td>\n",
       "      <td>some hands on training will be available .  ho...</td>\n",
       "    </tr>\n",
       "    <tr>\n",
       "      <th>4</th>\n",
       "      <td>Is this an online programme or classroom conta...</td>\n",
       "      <td>It is an online program that mimics classroom ...</td>\n",
       "      <td>is this an online programme or classroom conta...</td>\n",
       "      <td>it is an online program that mimics classroom ...</td>\n",
       "      <td>is this an online programme or classroom conta...</td>\n",
       "      <td>it is an online program that mimics classroom ...</td>\n",
       "    </tr>\n",
       "  </tbody>\n",
       "</table>\n",
       "</div>"
      ],
      "text/plain": [
       "                                           Questions  \\\n",
       "0                  What is ICTS learning analytics ?   \n",
       "1                         Is this a degree program ?   \n",
       "2  Is the certification given by any industry or ...   \n",
       "3  Is this completely theoretical or some hands o...   \n",
       "4  Is this an online programme or classroom conta...   \n",
       "\n",
       "                                             Answers  \\\n",
       "0  It is a modern, smart and focussed virtual env...   \n",
       "1  No, this is a short term training programme. I...   \n",
       "2  Yes, certification is given by ICTS Pvt. Ltd. ...   \n",
       "3  Some hands on training will be available. Howe...   \n",
       "4  It is an online program that mimics classroom ...   \n",
       "\n",
       "                                    lowered_question  \\\n",
       "0                  what is icts learning analytics ?   \n",
       "1                         is this a degree program ?   \n",
       "2  is the certification given by any industry or ...   \n",
       "3  is this completely theoretical or some hands o...   \n",
       "4  is this an online programme or classroom conta...   \n",
       "\n",
       "                                      lowered_answer  \\\n",
       "0  it is a modern, smart and focussed virtual env...   \n",
       "1  no, this is a short term training programme. i...   \n",
       "2  yes, certification is given by icts pvt. ltd. ...   \n",
       "3  some hands on training will be available. howe...   \n",
       "4  it is an online program that mimics classroom ...   \n",
       "\n",
       "                                    treated_question  \\\n",
       "0                what is icts learning analytics  ?    \n",
       "1                       is this a degree program  ?    \n",
       "2  is the certification given by any industry or ...   \n",
       "3  is this completely theoretical or some hands o...   \n",
       "4  is this an online programme or classroom conta...   \n",
       "\n",
       "                                      treated_answer  \n",
       "0  it is a modern ,  smart and focussed virtual e...  \n",
       "1  no ,  this is a short term training programme ...  \n",
       "2  yes ,  certification is given by icts pvt .  l...  \n",
       "3  some hands on training will be available .  ho...  \n",
       "4  it is an online program that mimics classroom ...  "
      ]
     },
     "execution_count": 28,
     "metadata": {},
     "output_type": "execute_result"
    }
   ],
   "source": [
    "dataset.head()"
   ]
  },
  {
   "cell_type": "code",
   "execution_count": 31,
   "metadata": {},
   "outputs": [],
   "source": [
    "embed_size = 300 # how big is each word vector\n",
    "max_features = None # how many unique words to use (i.e num rows in embedding vector)\n",
    "maxlen = 30 # max number of words in a question to use #99.99%\n",
    "\n",
    "## fill up the missing values\n",
    "X = dataset[\"treated_question\"].values\n",
    "y = dataset[\"treated_answer\"].values\n",
    "\n",
    "## Tokenize the sentences\n",
    "tokenizer = Tokenizer(num_words=max_features, filters='')\n",
    "tokenizer.fit_on_texts(list(X))\n",
    "\n",
    "X = tokenizer.texts_to_sequences(X)\n",
    "y = tokenizer.texts_to_sequences(y)\n",
    "\n",
    "## Pad the sentences \n",
    "X = pad_sequences(X, maxlen=maxlen)\n",
    "y = pad_sequences(y, maxlen=maxlen)"
   ]
  },
  {
   "cell_type": "code",
   "execution_count": 33,
   "metadata": {},
   "outputs": [
    {
     "data": {
      "text/plain": [
       "array([ 0,  0,  0,  0,  0,  0,  0,  0,  0,  0,  0,  0,  0,  0,  0,  0,  0,\n",
       "        0,  0,  0,  0,  0,  0,  0,  0,  0,  2, 21, 18, 65], dtype=int32)"
      ]
     },
     "execution_count": 33,
     "metadata": {},
     "output_type": "execute_result"
    }
   ],
   "source": [
    "y[0]"
   ]
  },
  {
   "cell_type": "code",
   "execution_count": 34,
   "metadata": {},
   "outputs": [],
   "source": [
    "word_index = tokenizer.word_index\n",
    "max_features = len(word_index)+1\n",
    "def load_glove(word_index):\n",
    "    EMBEDDING_FILE = 'glove.6B.300d.txt'\n",
    "    def get_coefs(word,*arr): return word, np.asarray(arr, dtype='float32')\n",
    "    embeddings_index = dict(get_coefs(*o.split(\" \")) for o in open(EMBEDDING_FILE) if o.split(\" \")[0] in word_index)\n",
    "\n",
    "    all_embs = np.stack(embeddings_index.values())\n",
    "    emb_mean,emb_std = all_embs.mean(), all_embs.std()\n",
    "    embed_size = all_embs.shape[1]\n",
    "\n",
    "    embedding_matrix = np.random.normal(emb_mean, emb_std, (max_features, embed_size))\n",
    "    for word, i in word_index.items():\n",
    "        if i >= max_features: continue\n",
    "        embedding_vector = embeddings_index.get(word)\n",
    "        if embedding_vector is not None: embedding_matrix[i] = embedding_vector\n",
    "            \n",
    "    return embedding_matrix \n",
    "    \n",
    "def load_fasttext(word_index):    \n",
    "    EMBEDDING_FILE = 'wiki-news-300d-1M.vec'\n",
    "    def get_coefs(word,*arr): return word, np.asarray(arr, dtype='float32')\n",
    "    embeddings_index = dict(get_coefs(*o.split(\" \")) for o in open(EMBEDDING_FILE) if len(o)>100 and o.split(\" \")[0] in word_index )\n",
    "\n",
    "    all_embs = np.stack(embeddings_index.values())\n",
    "    emb_mean,emb_std = all_embs.mean(), all_embs.std()\n",
    "    embed_size = all_embs.shape[1]\n",
    "\n",
    "    embedding_matrix = np.random.normal(emb_mean, emb_std, (max_features, embed_size))\n",
    "    for word, i in word_index.items():\n",
    "        if i >= max_features: continue\n",
    "        embedding_vector = embeddings_index.get(word)\n",
    "        if embedding_vector is not None: embedding_matrix[i] = embedding_vector\n",
    "\n",
    "    return embedding_matrix"
   ]
  },
  {
   "cell_type": "code",
   "execution_count": 35,
   "metadata": {},
   "outputs": [
    {
     "data": {
      "text/plain": [
       "(72, 300)"
      ]
     },
     "execution_count": 35,
     "metadata": {},
     "output_type": "execute_result"
    }
   ],
   "source": [
    "embedding_matrix_1 = load_glove(word_index)\n",
    "embedding_matrix_2 = load_fasttext(word_index)\n",
    "embedding_matrix = np.mean((embedding_matrix_1, embedding_matrix_2), axis=0)  \n",
    "del embedding_matrix_1, embedding_matrix_2\n",
    "gc.collect()\n",
    "np.shape(embedding_matrix)"
   ]
  },
  {
   "cell_type": "code",
   "execution_count": 36,
   "metadata": {},
   "outputs": [],
   "source": [
    "questions = dataset['treated_question'].values\n",
    "answers = dataset['treated_answer'].values"
   ]
  },
  {
   "cell_type": "code",
   "execution_count": 37,
   "metadata": {},
   "outputs": [],
   "source": [
    "def createVocab(lines, all_eng_words):\n",
    "    for line in lines:\n",
    "        for word in line.split(' '):\n",
    "            if word not in all_eng_words:\n",
    "                all_eng_words.add(word)\n",
    "    return all_eng_words"
   ]
  },
  {
   "cell_type": "code",
   "execution_count": 40,
   "metadata": {},
   "outputs": [],
   "source": [
    "all_questions = set()\n",
    "all_answers = set()\n",
    "all_questions = createVocab(questions, all_questions)\n",
    "all_answers = createVocab(answers, all_answers)"
   ]
  },
  {
   "cell_type": "code",
   "execution_count": 60,
   "metadata": {},
   "outputs": [
    {
     "name": "stdout",
     "output_type": "stream",
     "text": [
      "8\n",
      "8\n",
      "13\n",
      "15\n",
      "12\n",
      "11\n",
      "7\n",
      "8\n",
      "9\n",
      "11\n",
      "7\n",
      "7\n",
      "7\n",
      "8\n",
      "11\n",
      "9\n",
      "10\n"
     ]
    }
   ],
   "source": [
    "li = []\n",
    "for line in questions:\n",
    "    li.append(line.split(' '))\n",
    "    print(len(line.split(' ')))"
   ]
  },
  {
   "cell_type": "code",
   "execution_count": 61,
   "metadata": {},
   "outputs": [],
   "source": [
    "input_words = sorted(list(all_questions))\n",
    "target_words = sorted(list(all_answers))\n",
    "num_encoder_tokens = len(all_questions)\n",
    "num_decoder_tokens = len(all_answers)\n",
    "\n",
    "input_token_index = dict([(word, i) for i, word in enumerate(input_words)])\n",
    "target_token_index = dict([(word, i) for i, word in enumerate(target_words)])\n",
    "\n",
    "encoder_input_data = np.zeros((len(questions), 15),dtype='float32')\n",
    "decoder_input_data = np.zeros((len(answers), 50),dtype='float32')\n",
    "decoder_target_data = np.zeros((len(answers), 50, num_decoder_tokens),dtype='float32')"
   ]
  },
  {
   "cell_type": "code",
   "execution_count": 62,
   "metadata": {},
   "outputs": [],
   "source": [
    "for i, (input_text, target_text) in enumerate(zip(questions, answers)):\n",
    "    for t, word in enumerate(input_text.split()):\n",
    "        encoder_input_data[i, t] = input_token_index[word]\n",
    "    for t, word in enumerate(target_text.split()):\n",
    "        decoder_input_data[i, t] = target_token_index[word]\n",
    "        if t > 0:\n",
    "            decoder_target_data[i, t - 1, target_token_index[word]] = 1."
   ]
  },
  {
   "cell_type": "code",
   "execution_count": 64,
   "metadata": {},
   "outputs": [
    {
     "name": "stdout",
     "output_type": "stream",
     "text": [
      "__________________________________________________________________________________________________\n",
      "Layer (type)                    Output Shape         Param #     Connected to                     \n",
      "==================================================================================================\n",
      "input_3 (InputLayer)            (None, None)         0                                            \n",
      "__________________________________________________________________________________________________\n",
      "input_4 (InputLayer)            (None, None)         0                                            \n",
      "__________________________________________________________________________________________________\n",
      "embedding_2 (Embedding)         (None, None, 300)    21600       input_3[0][0]                    \n",
      "__________________________________________________________________________________________________\n",
      "embedding_3 (Embedding)         (None, None, 300)    70800       input_4[0][0]                    \n",
      "__________________________________________________________________________________________________\n",
      "lstm_2 (LSTM)                   [(None, 50), (None,  70200       embedding_2[0][0]                \n",
      "__________________________________________________________________________________________________\n",
      "lstm_3 (LSTM)                   [(None, None, 50), ( 70200       embedding_3[0][0]                \n",
      "                                                                 lstm_2[0][1]                     \n",
      "                                                                 lstm_2[0][2]                     \n",
      "__________________________________________________________________________________________________\n",
      "dense_1 (Dense)                 (None, None, 236)    12036       lstm_3[0][0]                     \n",
      "==================================================================================================\n",
      "Total params: 244,836\n",
      "Trainable params: 244,836\n",
      "Non-trainable params: 0\n",
      "__________________________________________________________________________________________________\n",
      "None\n"
     ]
    }
   ],
   "source": [
    "encoder_inputs = Input(shape=(None,))\n",
    "en_x = Embedding(num_encoder_tokens, embed_size, weights = [embedding_matrix])(encoder_inputs)\n",
    "encoder = LSTM(50, return_state=True)\n",
    "encoder_outputs, state_h, state_c = encoder(en_x)\n",
    "encoder_states = [state_h, state_c]\n",
    "\n",
    "decoder_inputs = Input(shape=(None,))\n",
    "dex = Embedding(num_decoder_tokens, embed_size)\n",
    "final_dex = dex(decoder_inputs)\n",
    "decoder_lstm = LSTM(50, return_sequences=True, return_state=True)\n",
    "decoder_outputs, _, _ = decoder_lstm(final_dex, initial_state=encoder_states)\n",
    "decoder_dense = Dense(num_decoder_tokens, activation='softmax')\n",
    "decoder_outputs = decoder_dense(decoder_outputs)\n",
    "model = Model([encoder_inputs, decoder_inputs], decoder_outputs)\n",
    "model.compile(optimizer='rmsprop', loss='categorical_crossentropy', metrics=['acc'])\n",
    "print(model.summary())"
   ]
  },
  {
   "cell_type": "code",
   "execution_count": 65,
   "metadata": {},
   "outputs": [
    {
     "name": "stdout",
     "output_type": "stream",
     "text": [
      "Train on 16 samples, validate on 1 samples\n",
      "Epoch 1/20\n",
      "16/16 [==============================] - 2s 97ms/step - loss: 3.1154 - acc: 0.0000e+00 - val_loss: 3.2666 - val_acc: 0.0200\n",
      "Epoch 2/20\n",
      "16/16 [==============================] - 0s 4ms/step - loss: 3.1033 - acc: 0.0400 - val_loss: 3.2545 - val_acc: 0.0600\n",
      "Epoch 3/20\n",
      "16/16 [==============================] - 0s 4ms/step - loss: 3.0917 - acc: 0.0613 - val_loss: 3.2394 - val_acc: 0.0800\n",
      "Epoch 4/20\n",
      "16/16 [==============================] - 0s 4ms/step - loss: 3.0766 - acc: 0.0575 - val_loss: 3.2206 - val_acc: 0.0800\n",
      "Epoch 5/20\n",
      "16/16 [==============================] - 0s 4ms/step - loss: 3.0564 - acc: 0.0538 - val_loss: 3.1967 - val_acc: 0.0600\n",
      "Epoch 6/20\n",
      "16/16 [==============================] - 0s 4ms/step - loss: 3.0303 - acc: 0.0512 - val_loss: 3.1687 - val_acc: 0.0600\n",
      "Epoch 7/20\n",
      "16/16 [==============================] - 0s 4ms/step - loss: 2.9992 - acc: 0.0512 - val_loss: 3.1382 - val_acc: 0.0600\n",
      "Epoch 8/20\n",
      "16/16 [==============================] - 0s 4ms/step - loss: 2.9666 - acc: 0.0500 - val_loss: 3.1113 - val_acc: 0.0600\n",
      "Epoch 9/20\n",
      "16/16 [==============================] - 0s 4ms/step - loss: 2.9368 - acc: 0.0512 - val_loss: 3.0857 - val_acc: 0.0600\n",
      "Epoch 10/20\n",
      "16/16 [==============================] - 0s 4ms/step - loss: 2.9105 - acc: 0.0500 - val_loss: 3.0665 - val_acc: 0.0600\n",
      "Epoch 11/20\n",
      "16/16 [==============================] - 0s 4ms/step - loss: 2.8871 - acc: 0.0512 - val_loss: 3.0434 - val_acc: 0.0600\n",
      "Epoch 12/20\n",
      "16/16 [==============================] - 0s 4ms/step - loss: 2.8662 - acc: 0.0500 - val_loss: 3.0301 - val_acc: 0.0600\n",
      "Epoch 13/20\n",
      "16/16 [==============================] - 0s 4ms/step - loss: 2.8473 - acc: 0.0500 - val_loss: 3.0069 - val_acc: 0.0600\n",
      "Epoch 14/20\n",
      "16/16 [==============================] - 0s 4ms/step - loss: 2.8301 - acc: 0.0500 - val_loss: 2.9982 - val_acc: 0.0600\n",
      "Epoch 15/20\n",
      "16/16 [==============================] - 0s 4ms/step - loss: 2.8140 - acc: 0.0500 - val_loss: 2.9751 - val_acc: 0.0600\n",
      "Epoch 16/20\n",
      "16/16 [==============================] - 0s 4ms/step - loss: 2.7987 - acc: 0.0500 - val_loss: 2.9684 - val_acc: 0.0600\n",
      "Epoch 17/20\n",
      "16/16 [==============================] - 0s 4ms/step - loss: 2.7844 - acc: 0.0487 - val_loss: 2.9458 - val_acc: 0.0600\n",
      "Epoch 18/20\n",
      "16/16 [==============================] - 0s 4ms/step - loss: 2.7708 - acc: 0.0525 - val_loss: 2.9408 - val_acc: 0.0600\n",
      "Epoch 19/20\n",
      "16/16 [==============================] - 0s 4ms/step - loss: 2.7586 - acc: 0.0487 - val_loss: 2.9191 - val_acc: 0.0600\n",
      "Epoch 20/20\n",
      "16/16 [==============================] - 0s 4ms/step - loss: 2.7459 - acc: 0.0525 - val_loss: 2.9173 - val_acc: 0.0600\n",
      "_________________________________________________________________\n",
      "Layer (type)                 Output Shape              Param #   \n",
      "=================================================================\n",
      "input_3 (InputLayer)         (None, None)              0         \n",
      "_________________________________________________________________\n",
      "embedding_2 (Embedding)      (None, None, 300)         21600     \n",
      "_________________________________________________________________\n",
      "lstm_2 (LSTM)                [(None, 50), (None, 50),  70200     \n",
      "=================================================================\n",
      "Total params: 91,800\n",
      "Trainable params: 91,800\n",
      "Non-trainable params: 0\n",
      "_________________________________________________________________\n"
     ]
    }
   ],
   "source": [
    "model.fit([encoder_input_data, decoder_input_data], decoder_target_data, batch_size=128, epochs=20, validation_split=0.05)\n",
    "encoder_model = Model(encoder_inputs, encoder_states)\n",
    "encoder_model.summary()"
   ]
  },
  {
   "cell_type": "code",
   "execution_count": null,
   "metadata": {},
   "outputs": [],
   "source": []
  }
 ],
 "metadata": {
  "kernelspec": {
   "display_name": "Python 3",
   "language": "python",
   "name": "python3"
  },
  "language_info": {
   "codemirror_mode": {
    "name": "ipython",
    "version": 3
   },
   "file_extension": ".py",
   "mimetype": "text/x-python",
   "name": "python",
   "nbconvert_exporter": "python",
   "pygments_lexer": "ipython3",
   "version": "3.6.5"
  }
 },
 "nbformat": 4,
 "nbformat_minor": 2
}
